{
 "cells": [
  {
   "cell_type": "code",
   "execution_count": 3,
   "metadata": {},
   "outputs": [],
   "source": [
    "from youtube_transcript_api import YouTubeTranscriptApi"
   ]
  },
  {
   "cell_type": "code",
   "execution_count": 62,
   "metadata": {},
   "outputs": [],
   "source": [
    "from typing import Annotated\n",
    "from typing_extensions import TypedDict\n",
    "from langchain_openai import ChatOpenAI\n",
    "from langgraph.graph import END, START, MessageGraph\n",
    "from langgraph.graph.state import StateGraph\n",
    "from langgraph.graph.message import add_messages\n",
    "from langgraph.prebuilt import ToolNode\n",
    "from langchain_core.tools import tool\n",
    "from langchain_core.messages import BaseMessage\n",
    "from langchain_core.runnables import RunnableConfig\n",
    "import os\n",
    "from dotenv import load_dotenv\n",
    "from typing import Annotated, Optional\n",
    "\n",
    "load_dotenv()\n",
    "\n",
    "#os.environ[\"OPENAI_API_KEY\"]=os.getenv(\"OPENAI_API_KEY\")\n",
    "OPENAI_API_KEY=\"\"\n",
    "\n",
    "from youtube_transcript_api import YouTubeTranscriptApi\n",
    "\n",
    "@tool\n",
    "def get_transcript(video_id: str) -> str:\n",
    "    \"\"\"\n",
    "    Fetches the transcript text from a given YouTube video ID.\n",
    "    Returns a concatenated string of all transcript lines.\n",
    "    \"\"\"\n",
    "    transcript_segments = YouTubeTranscriptApi.get_transcript(video_id)\n",
    "    text = \" \".join([seg[\"text\"] for seg in transcript_segments])\n",
    "    return text\n",
    "\n",
    "# Wrap the tool in a ToolNode (so the LLM can call it automatically if you want):\n",
    "transcript_tool_node = ToolNode([get_transcript])\n",
    "\n",
    "class State(TypedDict):\n",
    "    messages: Annotated[list[BaseMessage], add_messages]\n",
    "    transcript: Optional[str]\n",
    "\n",
    "model = ChatOpenAI(temperature=0,api_key=OPENAI_API_KEY)\n",
    "model_with_tools = model.bind_tools([get_transcript])\n",
    "\n",
    "def call_transcript_node(state: State) -> State:\n",
    "    \"\"\"This node manually calls get_transcript, storing the result in `state[\"transcript\"]`.\"\"\"\n",
    "    # 1) Find the video_id from user messages.\n",
    "    #    A simple approach: assume the last user message has the ID, e.g. \"video_id is dQw4w9WgXcQ\".\n",
    "    \n",
    "    last_message = state[\"messages\"][-1]\n",
    "    user_text = last_message.content#.lower()\n",
    "    \n",
    "    # Extract the ID if we find something like \"video_id is ...\"\n",
    "    # You can do more robust parsing if needed. This is just a quick example:\n",
    "    #video_id = \"a3o8hRZkNCw\"  # fallback\n",
    "    prefix = \"video ID is \"\n",
    "    if prefix in user_text:\n",
    "        video_id = user_text.split(prefix, 1)[1].strip().split()[0]\n",
    "    # 2) Actually call the tool function\n",
    "    transcript = get_transcript(video_id)\n",
    "    \n",
    "    # 3) Save in state\n",
    "    state[\"transcript\"] = transcript\n",
    "    \n",
    "    # 4) Optionally add an AI message or system message acknowledging success:\n",
    "    # confirmation_message = Sys.assistant(\n",
    "    #     content=f\"Transcript fetched successfully for video_id={video_id}.\"\n",
    "    # )\n",
    "    # state[\"messages\"].append(confirmation_message)\n",
    "    \n",
    "    return state\n",
    "\n",
    "################################################################################\n",
    "# 6. Second Node: Create a blog from the transcript\n",
    "################################################################################\n",
    "def call_blog_creation_node(state: State) -> State:\n",
    "    \"\"\"Use the LLM to create a blog draft from state[\"transcript\"].\"\"\"\n",
    "    transcript = state[\"transcript\"]\n",
    "    # if not transcript:\n",
    "    #     # If there's no transcript, let's short-circuit or add an error message\n",
    "    #     error_msg = BaseMessage.assistant(content=\"No transcript found!\")\n",
    "    #     state[\"messages\"].append(error_msg)\n",
    "    #     return state\n",
    "    \n",
    "    system_instructions = \"\"\"\n",
    "You are the Blog Creation Agent.\n",
    "Create a concise, structured, and engaging blog post based on the transcript provided.\n",
    "Include an introduction, key points, and a conclusion.\n",
    "Use a friendly, informative tone.\n",
    "\"\"\"\n",
    "    # We embed the transcript in a user-like message or add it in the prompt\n",
    "    messages_for_llm = [\n",
    "        SystemMessage(content=system_instructions + f\"Transcript:\\n{transcript}\")\n",
    "    ]\n",
    "    \n",
    "    # Call the model\n",
    "    response = model.invoke(messages_for_llm)\n",
    "    state[\"messages\"].append(response)\n",
    "    return state\n",
    "\n",
    "################################################################################\n",
    "# 7. Third Node: Validate the blog\n",
    "################################################################################\n",
    "def call_blog_validation_node(state: State) -> State:\n",
    "    \"\"\"Use the LLM to refine and validate the last AI-produced blog post.\"\"\"\n",
    "    # The last assistant message in state[\"messages\"] should be the drafted blog\n",
    "    # We'll instruct the model to refine it.\n",
    "    system_instructions = \"\"\"\n",
    "You are the Blog Validation Agent.\n",
    "Read the blog draft in the conversation. Provide improvements for grammar, clarity,\n",
    "and structure, and output a final validated version of the blog.\n",
    "\"\"\"\n",
    "    messages_for_llm = [\n",
    "        SystemMessage(content=system_instructions),\n",
    "        *state[\"messages\"]  # The entire conversation, so it sees the draft\n",
    "    ]\n",
    "    \n",
    "    response = model.invoke(messages_for_llm)\n",
    "    state[\"messages\"].append(response)\n",
    "    return state\n",
    "\n",
    "################################################################################\n",
    "# 8. Assemble the Graph: \n",
    "#    START -> get_transcript -> create_blog -> validate_blog -> END\n",
    "################################################################################\n",
    "def make_blog_flow():\n",
    "    # Initialize the state machine with custom State\n",
    "    graph_workflow = StateGraph(State)\n",
    "\n",
    "    # Add nodes\n",
    "    graph_workflow.add_node(\"get_transcript\", call_transcript_node)\n",
    "    graph_workflow.add_node(\"create_blog\", call_blog_creation_node)\n",
    "    graph_workflow.add_node(\"validate_blog\", call_blog_validation_node)\n",
    "\n",
    "    # Connect them\n",
    "    graph_workflow.add_edge(START, \"get_transcript\")\n",
    "    graph_workflow.add_edge(\"get_transcript\", \"create_blog\")\n",
    "    graph_workflow.add_edge(\"create_blog\", \"validate_blog\")\n",
    "    graph_workflow.add_edge(\"validate_blog\", END)\n",
    "\n",
    "    agent = graph_workflow.compile()\n",
    "    return agent\n",
    "\n",
    "\n"
   ]
  },
  {
   "cell_type": "code",
   "execution_count": 64,
   "metadata": {},
   "outputs": [
    {
     "name": "stdout",
     "output_type": "stream",
     "text": [
      "yes\n"
     ]
    },
    {
     "data": {
      "image/png": "[encoded data removed]",
      "text/plain": [
       "<langgraph.graph.state.CompiledStateGraph object at 0x0000013DB7DE97F0>"
      ]
     },
     "execution_count": 64,
     "metadata": {},
     "output_type": "execute_result"
    }
   ],
   "source": [
    "from langchain_core.messages import HumanMessage, SystemMessage\n",
    "initial_messages = [\n",
    "        HumanMessage(\"The YouTube video ID is a3o8hRZkNCw Please fetch the transcript and create a blog post.\"),\n",
    "    ]\n",
    "agent = make_blog_flow()\n",
    "#     # Run the flow with the initial state\n",
    "final_state = agent.invoke({\"messages\": initial_messages})\n",
    "conversation = final_state[\"messages\"]\n",
    "agent"
   ]
  },
  {
   "cell_type": "code",
   "execution_count": 65,
   "metadata": {},
   "outputs": [
    {
     "data": {
      "text/plain": [
       "[HumanMessage(content='The YouTube video ID is a3o8hRZkNCw Please fetch the transcript and create a blog post.', additional_kwargs={}, response_metadata={}, id='1d42d019-61ab-4ba4-97ed-8c5940d60989'),\n",
       " AIMessage(content='### Blog Post: Demystifying DevOps, CI/CD, and Kubernetes\\n\\n#### Introduction:\\nIn the world of IT, DevOps, Continuous Integration/Continuous Deployment (CI/CD), and Kubernetes have become essential components for efficient software development and deployment. Today, we will delve into a conversation with an experienced IT professional who has worked extensively in these areas to gain insights into their practical applications and significance.\\n\\n#### Key Points:\\n1. **Introduction to the Expert**: The expert has 9 years of experience in IT, initially working with Linux technology and later transitioning to DevOps. They have been working in DevOps for the past four and a half years, with a focus on cloud environments like AWS.\\n\\n2. **CI/CD Pipeline**: The expert explains the Continuous Integration and Continuous Delivery pipeline in their project, involving Git, Jenkins, Maven, SonarQube, and Docker containers. They also discuss the use of Argo CD for package updates and deployment in Kubernetes clusters.\\n\\n3. **Git and Code Management**: The expert elaborates on Git commands like `git fetch` and `git pull`, conflict resolution in Git, and the differences between `git rebase` and `git merge`.\\n\\n4. **SonarQube and Maven**: The expert discusses the use of SonarQube for static code analysis and Maven for the build lifecycle, emphasizing the importance of the `pom.xml` file in defining dependencies and build configurations.\\n\\n5. **Docker and Kubernetes**: Insights into multi-stage Docker builds to optimize image sizes, differences between Docker images and containers, and a detailed explanation of Kubernetes architecture, including control plane and worker nodes.\\n\\n6. **Scaling in Kubernetes**: Understanding horizontal and vertical scaling in Kubernetes, setting metrics for scaling, and troubleshooting scenarios like node readiness and container creation issues.\\n\\n7. **Networking and Infrastructure**: Exploring concepts like VPC (Virtual Private Cloud), Route Tables, and IP address assignment in public subnets for effective network management in cloud environments.\\n\\n#### Conclusion:\\nIn conclusion, this insightful conversation with the IT expert has shed light on the practical aspects of DevOps, CI/CD pipelines, Git management, Docker, Kubernetes, and networking fundamentals. Understanding these key concepts is crucial for IT professionals looking to streamline software development processes, enhance deployment efficiency, and optimize cloud infrastructure management. Stay tuned for more informative discussions on cutting-edge technologies in the IT landscape.', additional_kwargs={'refusal': None}, response_metadata={'token_usage': {'completion_tokens': 482, 'prompt_tokens': 3736, 'total_tokens': 4218, 'completion_tokens_details': {'accepted_prediction_tokens': 0, 'audio_tokens': 0, 'reasoning_tokens': 0, 'rejected_prediction_tokens': 0}, 'prompt_tokens_details': {'audio_tokens': 0, 'cached_tokens': 0}}, 'model_name': 'gpt-3.5-turbo-0125', 'system_fingerprint': None, 'finish_reason': 'stop', 'logprobs': None}, id='run-0642056d-0b22-4598-a3dd-46e46a482cab-0', usage_metadata={'input_tokens': 3736, 'output_tokens': 482, 'total_tokens': 4218, 'input_token_details': {'audio': 0, 'cache_read': 0}, 'output_token_details': {'audio': 0, 'reasoning': 0}}),\n",
       " AIMessage(content='### Blog Post: Demystifying DevOps, CI/CD, and Kubernetes\\n\\n#### Introduction:\\nIn the realm of IT, DevOps, Continuous Integration/Continuous Deployment (CI/CD), and Kubernetes have emerged as vital components for efficient software development and deployment. Today, we will delve into a conversation with an experienced IT professional who has extensive experience in these domains to gain insights into their practical applications and significance.\\n\\n#### Key Points:\\n1. **Introduction to the Expert**: The expert boasts 9 years of IT experience, initially working with Linux technology and later transitioning to DevOps. For the past four and a half years, they have been immersed in DevOps, focusing on cloud environments such as AWS.\\n\\n2. **CI/CD Pipeline**: The expert elaborates on the Continuous Integration and Continuous Delivery pipeline in their project, which involves Git, Jenkins, Maven, SonarQube, and Docker containers. They also discuss the utilization of Argo CD for package updates and deployment in Kubernetes clusters.\\n\\n3. **Git and Code Management**: The expert delves into Git commands like `git fetch` and `git pull`, conflict resolution in Git, and the disparities between `git rebase` and `git merge`.\\n\\n4. **SonarQube and Maven**: The expert discusses the utilization of SonarQube for static code analysis and Maven for the build lifecycle, emphasizing the significance of the `pom.xml` file in defining dependencies and build configurations.\\n\\n5. **Docker and Kubernetes**: Insights are provided on multi-stage Docker builds to optimize image sizes, distinctions between Docker images and containers, and a comprehensive explanation of Kubernetes architecture, encompassing the control plane and worker nodes.\\n\\n6. **Scaling in Kubernetes**: Understanding horizontal and vertical scaling in Kubernetes, establishing metrics for scaling, and troubleshooting scenarios such as node readiness and container creation issues.\\n\\n7. **Networking and Infrastructure**: Exploring concepts like VPC (Virtual Private Cloud), Route Tables, and IP address assignment in public subnets for effective network management in cloud environments.\\n\\n#### Conclusion:\\nIn conclusion, this enlightening conversation with the IT expert has illuminated the practical aspects of DevOps, CI/CD pipelines, Git management, Docker, Kubernetes, and networking fundamentals. Grasping these key concepts is imperative for IT professionals seeking to streamline software development processes, enhance deployment efficiency, and optimize cloud infrastructure management. Stay tuned for more informative discussions on cutting-edge technologies in the IT landscape.', additional_kwargs={'refusal': None}, response_metadata={'token_usage': {'completion_tokens': 491, 'prompt_tokens': 557, 'total_tokens': 1048, 'completion_tokens_details': {'accepted_prediction_tokens': 0, 'audio_tokens': 0, 'reasoning_tokens': 0, 'rejected_prediction_tokens': 0}, 'prompt_tokens_details': {'audio_tokens': 0, 'cached_tokens': 0}}, 'model_name': 'gpt-3.5-turbo-0125', 'system_fingerprint': None, 'finish_reason': 'stop', 'logprobs': None}, id='run-b362fa65-7143-4d5f-8d42-c68179a1c0ea-0', usage_metadata={'input_tokens': 557, 'output_tokens': 491, 'total_tokens': 1048, 'input_token_details': {'audio': 0, 'cache_read': 0}, 'output_token_details': {'audio': 0, 'reasoning': 0}})]"
      ]
     },
     "execution_count": 65,
     "metadata": {},
     "output_type": "execute_result"
    }
   ],
   "source": [
    "conversation"
   ]
  },
  {
   "cell_type": "code",
   "execution_count": null,
   "metadata": {},
   "outputs": [],
   "source": []
  }
 ],
 "metadata": {
  "kernelspec": {
   "display_name": ".venv",
   "language": "python",
   "name": "python3"
  },
  "language_info": {
   "codemirror_mode": {
    "name": "ipython",
    "version": 3
   },
   "file_extension": ".py",
   "mimetype": "text/x-python",
   "name": "python",
   "nbconvert_exporter": "python",
   "pygments_lexer": "ipython3",
   "version": "3.12.4"
  }
 },
 "nbformat": 4,
 "nbformat_minor": 2
}
